{
 "cells": [
  {
   "cell_type": "code",
   "execution_count": 2,
   "id": "42e215e2",
   "metadata": {
    "scrolled": true
   },
   "outputs": [],
   "source": [
    "from sklearn.model_selection import train_test_split\n",
    "from sklearn.preprocessing import StandardScaler\n",
    "from sklearn.ensemble import RandomForestClassifier as rfc, AdaBoostClassifier as ada\n",
    "from sklearn.tree import DecisionTreeClassifier as dtc\n",
    "import pickle\n",
    "import pandas as pd\n",
    "#loading data"
   ]
  },
  {
   "cell_type": "code",
   "execution_count": 3,
   "id": "fa555ca9",
   "metadata": {},
   "outputs": [],
   "source": [
    "data_file = \"fetal_health_corrected_dataset.csv\"\n",
    "data = pd.read_csv(data_file)"
   ]
  },
  {
   "cell_type": "code",
   "execution_count": 4,
   "id": "52b6fec6",
   "metadata": {},
   "outputs": [],
   "source": [
    "x = data.iloc[:,0:13].values\n",
    "y = data.iloc[:,13].values"
   ]
  },
  {
   "cell_type": "markdown",
   "id": "6e476138",
   "metadata": {},
   "source": [
    "### handling impalanced learn using smote"
   ]
  },
  {
   "cell_type": "code",
   "execution_count": 5,
   "id": "5903f1e6",
   "metadata": {},
   "outputs": [],
   "source": [
    "import imblearn"
   ]
  },
  {
   "cell_type": "code",
   "execution_count": 6,
   "id": "65c2f640",
   "metadata": {},
   "outputs": [],
   "source": [
    "from imblearn.over_sampling import SMOTE"
   ]
  },
  {
   "cell_type": "code",
   "execution_count": 7,
   "id": "28b9ef22",
   "metadata": {},
   "outputs": [],
   "source": [
    "smote = SMOTE()\n",
    "x, y = smote.fit_resample(x, y)"
   ]
  },
  {
   "cell_type": "code",
   "execution_count": 8,
   "id": "704e773a",
   "metadata": {},
   "outputs": [],
   "source": [
    "x_train, x_test, y_train, y_test = train_test_split(x,y,test_size = 0.2, random_state = 13)"
   ]
  },
  {
   "cell_type": "markdown",
   "id": "7e80223a",
   "metadata": {},
   "source": [
    "## Decision tree"
   ]
  },
  {
   "cell_type": "code",
   "execution_count": 9,
   "id": "1bc1b196",
   "metadata": {},
   "outputs": [],
   "source": [
    "d_clf = dtc(max_depth = 100)"
   ]
  },
  {
   "cell_type": "code",
   "execution_count": 10,
   "id": "05ae601a",
   "metadata": {},
   "outputs": [],
   "source": [
    "d_clf = d_clf.fit(x_train, y_train)"
   ]
  },
  {
   "cell_type": "code",
   "execution_count": 11,
   "id": "f12deff2",
   "metadata": {},
   "outputs": [],
   "source": [
    "y_pred = d_clf.predict(x_test)"
   ]
  },
  {
   "cell_type": "code",
   "execution_count": 12,
   "id": "3c0e473c",
   "metadata": {},
   "outputs": [],
   "source": [
    "from sklearn import metrics\n",
    "y_pred = d_clf.predict(x_test)\n",
    "accuracy = metrics.accuracy_score(y_test, y_pred)"
   ]
  },
  {
   "cell_type": "code",
   "execution_count": 13,
   "id": "a14e460a",
   "metadata": {},
   "outputs": [
    {
     "data": {
      "text/plain": [
       "0.9204431017119838"
      ]
     },
     "execution_count": 13,
     "metadata": {},
     "output_type": "execute_result"
    }
   ],
   "source": [
    "accuracy"
   ]
  },
  {
   "cell_type": "code",
   "execution_count": 14,
   "id": "68133fef",
   "metadata": {},
   "outputs": [],
   "source": [
    "## confusion matrix"
   ]
  },
  {
   "cell_type": "code",
   "execution_count": 15,
   "id": "7059600c",
   "metadata": {},
   "outputs": [],
   "source": [
    "from sklearn.metrics import ConfusionMatrixDisplay\n",
    "import matplotlib.pyplot as plt"
   ]
  },
  {
   "cell_type": "code",
   "execution_count": null,
   "id": "92f60365",
   "metadata": {},
   "outputs": [],
   "source": []
  },
  {
   "cell_type": "code",
   "execution_count": 16,
   "id": "0fcc1035",
   "metadata": {},
   "outputs": [
    {
     "data": {
      "image/png": "[encoded data removed]",
      "text/plain": [
       "<Figure size 432x288 with 2 Axes>"
      ]
     },
     "metadata": {
      "needs_background": "light"
     },
     "output_type": "display_data"
    }
   ],
   "source": [
    "disp = ConfusionMatrixDisplay.from_estimator(\n",
    "        d_clf,\n",
    "        x_test,\n",
    "        y_test,\n",
    "        display_labels=[\"Normal\", \"Abnormal\", \"Pathological\"],\n",
    "        cmap=plt.cm.Blues,\n",
    "        normalize='true',\n",
    "    )"
   ]
  },
  {
   "cell_type": "code",
   "execution_count": 17,
   "id": "2ad6a9da",
   "metadata": {},
   "outputs": [],
   "source": [
    "from sklearn.metrics import precision_score, recall_score, confusion_matrix, classification_report, accuracy_score, f1_score"
   ]
  },
  {
   "cell_type": "code",
   "execution_count": 18,
   "id": "924f06b9",
   "metadata": {},
   "outputs": [],
   "source": [
    "dt_precision = precision_score(y_test, y_pred, average='weighted')"
   ]
  },
  {
   "cell_type": "code",
   "execution_count": 19,
   "id": "76257e0a",
   "metadata": {},
   "outputs": [
    {
     "data": {
      "text/plain": [
       "0.9214323318996247"
      ]
     },
     "execution_count": 19,
     "metadata": {},
     "output_type": "execute_result"
    }
   ],
   "source": [
    "dt_precision"
   ]
  },
  {
   "cell_type": "code",
   "execution_count": 20,
   "id": "416d967c",
   "metadata": {},
   "outputs": [],
   "source": [
    "dt_recall  = recall_score(y_test, y_pred,average = 'weighted')"
   ]
  },
  {
   "cell_type": "code",
   "execution_count": 21,
   "id": "58d56925",
   "metadata": {},
   "outputs": [
    {
     "data": {
      "text/plain": [
       "0.9204431017119838"
      ]
     },
     "execution_count": 21,
     "metadata": {},
     "output_type": "execute_result"
    }
   ],
   "source": [
    "dt_recall"
   ]
  },
  {
   "cell_type": "code",
   "execution_count": 22,
   "id": "909ae82c",
   "metadata": {},
   "outputs": [],
   "source": [
    "dt_f1_score = f1_score(y_test, y_pred, average=\"weighted\")"
   ]
  },
  {
   "cell_type": "code",
   "execution_count": 23,
   "id": "4752978e",
   "metadata": {},
   "outputs": [
    {
     "data": {
      "text/plain": [
       "0.9205777272930268"
      ]
     },
     "execution_count": 23,
     "metadata": {},
     "output_type": "execute_result"
    }
   ],
   "source": [
    "dt_f1_score"
   ]
  },
  {
   "cell_type": "markdown",
   "id": "482a32f3",
   "metadata": {},
   "source": [
    "## Random forest"
   ]
  },
  {
   "cell_type": "code",
   "execution_count": 24,
   "id": "a8270e57",
   "metadata": {},
   "outputs": [],
   "source": [
    "d_rfc = rfc(n_estimators = 100)"
   ]
  },
  {
   "cell_type": "code",
   "execution_count": 25,
   "id": "109917b4",
   "metadata": {},
   "outputs": [],
   "source": [
    "d_rfc = d_rfc.fit(x_train, y_train)"
   ]
  },
  {
   "cell_type": "code",
   "execution_count": 26,
   "id": "05455051",
   "metadata": {},
   "outputs": [],
   "source": [
    "y_pred = d_rfc.predict(x_test)"
   ]
  },
  {
   "cell_type": "code",
   "execution_count": 27,
   "id": "4a1801ce",
   "metadata": {},
   "outputs": [],
   "source": [
    "from sklearn import metrics\n",
    "y_pred = d_rfc.predict(x_test)\n",
    "accuracy = metrics.accuracy_score(y_test, y_pred)"
   ]
  },
  {
   "cell_type": "code",
   "execution_count": 28,
   "id": "2b438340",
   "metadata": {},
   "outputs": [
    {
     "data": {
      "text/plain": [
       "0.9627391742195368"
      ]
     },
     "execution_count": 28,
     "metadata": {},
     "output_type": "execute_result"
    }
   ],
   "source": [
    "accuracy"
   ]
  },
  {
   "cell_type": "code",
   "execution_count": 29,
   "id": "e07ab349",
   "metadata": {},
   "outputs": [],
   "source": [
    "from sklearn.metrics import ConfusionMatrixDisplay\n",
    "import matplotlib.pyplot as plt"
   ]
  },
  {
   "cell_type": "code",
   "execution_count": 30,
   "id": "fbe9a4e8",
   "metadata": {},
   "outputs": [
    {
     "data": {
      "image/png": "[encoded data removed]",
      "text/plain": [
       "<Figure size 432x288 with 2 Axes>"
      ]
     },
     "metadata": {
      "needs_background": "light"
     },
     "output_type": "display_data"
    }
   ],
   "source": [
    "disp = ConfusionMatrixDisplay.from_estimator(\n",
    "        d_rfc,\n",
    "        x_test,\n",
    "        y_test,\n",
    "        display_labels=[\"Normal\", \"Abnormal\", \"Pathological\"],\n",
    "        cmap=plt.cm.Blues,\n",
    "        normalize='true',\n",
    "    )"
   ]
  },
  {
   "cell_type": "code",
   "execution_count": 31,
   "id": "a3308dc8",
   "metadata": {},
   "outputs": [],
   "source": [
    "from sklearn.metrics import precision_score, recall_score, confusion_matrix, classification_report, accuracy_score, f1_score"
   ]
  },
  {
   "cell_type": "code",
   "execution_count": 32,
   "id": "3d924a20",
   "metadata": {},
   "outputs": [],
   "source": [
    "rfc_precision = precision_score(y_test, y_pred, average='weighted')"
   ]
  },
  {
   "cell_type": "code",
   "execution_count": 33,
   "id": "fd776dbb",
   "metadata": {},
   "outputs": [
    {
     "data": {
      "text/plain": [
       "0.9642106171806071"
      ]
     },
     "execution_count": 33,
     "metadata": {},
     "output_type": "execute_result"
    }
   ],
   "source": [
    "rfc_precision"
   ]
  },
  {
   "cell_type": "code",
   "execution_count": 34,
   "id": "636c3b20",
   "metadata": {},
   "outputs": [],
   "source": [
    "rfc_recall  = recall_score(y_test, y_pred,average = 'weighted')"
   ]
  },
  {
   "cell_type": "code",
   "execution_count": 35,
   "id": "2db8f866",
   "metadata": {},
   "outputs": [
    {
     "data": {
      "text/plain": [
       "0.9627391742195368"
      ]
     },
     "execution_count": 35,
     "metadata": {},
     "output_type": "execute_result"
    }
   ],
   "source": [
    "rfc_recall"
   ]
  },
  {
   "cell_type": "code",
   "execution_count": 36,
   "id": "b770dbdb",
   "metadata": {},
   "outputs": [],
   "source": [
    "rfc_f1_score = f1_score(y_test, y_pred, average=\"weighted\")"
   ]
  },
  {
   "cell_type": "code",
   "execution_count": 37,
   "id": "6f43c78b",
   "metadata": {},
   "outputs": [
    {
     "data": {
      "text/plain": [
       "0.9629068690338609"
      ]
     },
     "execution_count": 37,
     "metadata": {},
     "output_type": "execute_result"
    }
   ],
   "source": [
    "rfc_f1_score"
   ]
  },
  {
   "cell_type": "code",
   "execution_count": 1,
   "id": "98c2bcbe",
   "metadata": {},
   "outputs": [],
   "source": [
    "## saving the model"
   ]
  },
  {
   "cell_type": "code",
   "execution_count": 2,
   "id": "1d0af5a1",
   "metadata": {},
   "outputs": [
    {
     "name": "stdout",
     "output_type": "stream",
     "text": [
      "Collecting streamlit\n",
      "Note: you may need to restart the kernel to use updated packages.\n"
     ]
    },
    {
     "name": "stderr",
     "output_type": "stream",
     "text": [
      "  WARNING: Retrying (Retry(total=4, connect=None, read=None, redirect=None, status=None)) after connection broken by 'ConnectTimeoutError(<pip._vendor.urllib3.connection.HTTPSConnection object at 0x0000026A754C22F0>, 'Connection to files.pythonhosted.org timed out. (connect timeout=15)')': /packages/7b/14/03a2ee6f5ebf04b52c2b8e4d770c51e6318551af0153d32577622452f998/streamlit-1.8.0-py2.py3-none-any.whl\n",
      "  WARNING: Retrying (Retry(total=3, connect=None, read=None, redirect=None, status=None)) after connection broken by 'ConnectTimeoutError(<pip._vendor.urllib3.connection.HTTPSConnection object at 0x0000026A754C24A0>, 'Connection to files.pythonhosted.org timed out. (connect timeout=15)')': /packages/7b/14/03a2ee6f5ebf04b52c2b8e4d770c51e6318551af0153d32577622452f998/streamlit-1.8.0-py2.py3-none-any.whl\n",
      "  WARNING: Retrying (Retry(total=2, connect=None, read=None, redirect=None, status=None)) after connection broken by 'ConnectTimeoutError(<pip._vendor.urllib3.connection.HTTPSConnection object at 0x0000026A754C2650>, 'Connection to files.pythonhosted.org timed out. (connect timeout=15)')': /packages/7b/14/03a2ee6f5ebf04b52c2b8e4d770c51e6318551af0153d32577622452f998/streamlit-1.8.0-py2.py3-none-any.whl\n",
      "  WARNING: Retrying (Retry(total=1, connect=None, read=None, redirect=None, status=None)) after connection broken by 'ConnectTimeoutError(<pip._vendor.urllib3.connection.HTTPSConnection object at 0x0000026A754C2800>, 'Connection to files.pythonhosted.org timed out. (connect timeout=15)')': /packages/7b/14/03a2ee6f5ebf04b52c2b8e4d770c51e6318551af0153d32577622452f998/streamlit-1.8.0-py2.py3-none-any.whl\n",
      "  WARNING: Retrying (Retry(total=0, connect=None, read=None, redirect=None, status=None)) after connection broken by 'ConnectTimeoutError(<pip._vendor.urllib3.connection.HTTPSConnection object at 0x0000026A754C29B0>, 'Connection to files.pythonhosted.org timed out. (connect timeout=15)')': /packages/7b/14/03a2ee6f5ebf04b52c2b8e4d770c51e6318551af0153d32577622452f998/streamlit-1.8.0-py2.py3-none-any.whl\n",
      "ERROR: Could not install packages due to an OSError: HTTPSConnectionPool(host='files.pythonhosted.org', port=443): Max retries exceeded with url: /packages/7b/14/03a2ee6f5ebf04b52c2b8e4d770c51e6318551af0153d32577622452f998/streamlit-1.8.0-py2.py3-none-any.whl (Caused by ConnectTimeoutError(<pip._vendor.urllib3.connection.HTTPSConnection object at 0x0000026A75473F40>, 'Connection to files.pythonhosted.org timed out. (connect timeout=15)'))\n",
      "\n",
      "WARNING: You are using pip version 21.2.4; however, version 22.0.4 is available.\n",
      "You should consider upgrading via the 'C:\\Users\\Miz\\AppData\\Local\\Programs\\Python\\Python310\\python.exe -m pip install --upgrade pip' command.\n"
     ]
    }
   ],
   "source": [
    "pip install streamlit"
   ]
  },
  {
   "cell_type": "code",
   "execution_count": null,
   "id": "e6092836",
   "metadata": {},
   "outputs": [],
   "source": []
  },
  {
   "cell_type": "markdown",
   "id": "9f21ff35",
   "metadata": {},
   "source": [
    "### ANN"
   ]
  },
  {
   "cell_type": "code",
   "execution_count": 38,
   "id": "0cb6b802",
   "metadata": {},
   "outputs": [],
   "source": [
    "from sklearn.neural_network import MLPClassifier"
   ]
  },
  {
   "cell_type": "code",
   "execution_count": 173,
   "id": "f56e802a",
   "metadata": {},
   "outputs": [],
   "source": [
    "ann_clf = MLPClassifier(hidden_layer_sizes=(500,5),\n",
    "                    learning_rate_init=0.001, max_iter=2000, \n",
    "                    activation='logistic', solver='adam', shuffle=False, random_state=30)"
   ]
  },
  {
   "cell_type": "code",
   "execution_count": 174,
   "id": "4c9217ae",
   "metadata": {},
   "outputs": [],
   "source": [
    "ann_clf = ann_clf.fit(x_train, y_train)"
   ]
  },
  {
   "cell_type": "code",
   "execution_count": 175,
   "id": "3afa7924",
   "metadata": {},
   "outputs": [],
   "source": [
    "y_pred = ann_clf.predict(x_test)"
   ]
  },
  {
   "cell_type": "code",
   "execution_count": 176,
   "id": "4bebbdd4",
   "metadata": {},
   "outputs": [],
   "source": [
    "from sklearn import metrics\n",
    "y_pred = ann_clf.predict(x_test)\n",
    "accuracy = metrics.accuracy_score(y_test, y_pred)"
   ]
  },
  {
   "cell_type": "code",
   "execution_count": 177,
   "id": "973a11d2",
   "metadata": {},
   "outputs": [
    {
     "data": {
      "text/plain": [
       "0.878147029204431"
      ]
     },
     "execution_count": 177,
     "metadata": {},
     "output_type": "execute_result"
    }
   ],
   "source": [
    "accuracy"
   ]
  },
  {
   "cell_type": "code",
   "execution_count": 178,
   "id": "b6e743f4",
   "metadata": {},
   "outputs": [],
   "source": [
    "from sklearn.metrics import ConfusionMatrixDisplay\n",
    "import matplotlib.pyplot as plt"
   ]
  },
  {
   "cell_type": "code",
   "execution_count": 179,
   "id": "724b0b0e",
   "metadata": {},
   "outputs": [
    {
     "data": {
      "image/png": "[encoded data removed]",
      "text/plain": [
       "<Figure size 432x288 with 2 Axes>"
      ]
     },
     "metadata": {
      "needs_background": "light"
     },
     "output_type": "display_data"
    }
   ],
   "source": [
    "disp = ConfusionMatrixDisplay.from_estimator(\n",
    "        ann_clf,\n",
    "        x_test,\n",
    "        y_test,\n",
    "        display_labels=[\"Normal\", \"Abnormal\", \"Pathological\"],\n",
    "        cmap=plt.cm.Blues,\n",
    "        normalize='true',\n",
    "    )"
   ]
  },
  {
   "cell_type": "code",
   "execution_count": 180,
   "id": "3ff81c2f",
   "metadata": {},
   "outputs": [],
   "source": [
    "from sklearn.metrics import precision_score, recall_score, confusion_matrix, classification_report, accuracy_score, f1_score"
   ]
  },
  {
   "cell_type": "code",
   "execution_count": 181,
   "id": "3c678759",
   "metadata": {},
   "outputs": [],
   "source": [
    "ann_precision = precision_score(y_test, y_pred, average='weighted')"
   ]
  },
  {
   "cell_type": "code",
   "execution_count": 182,
   "id": "e9dbb7f9",
   "metadata": {},
   "outputs": [
    {
     "data": {
      "text/plain": [
       "0.884479375077354"
      ]
     },
     "execution_count": 182,
     "metadata": {},
     "output_type": "execute_result"
    }
   ],
   "source": [
    "ann_precision"
   ]
  },
  {
   "cell_type": "code",
   "execution_count": 183,
   "id": "c700c53d",
   "metadata": {},
   "outputs": [],
   "source": [
    "ann_recall  = recall_score(y_test, y_pred,average = 'weighted')"
   ]
  },
  {
   "cell_type": "code",
   "execution_count": 184,
   "id": "a2ac0585",
   "metadata": {},
   "outputs": [
    {
     "data": {
      "text/plain": [
       "0.878147029204431"
      ]
     },
     "execution_count": 184,
     "metadata": {},
     "output_type": "execute_result"
    }
   ],
   "source": [
    "ann_recall"
   ]
  },
  {
   "cell_type": "code",
   "execution_count": 185,
   "id": "a1e64ba1",
   "metadata": {},
   "outputs": [],
   "source": [
    "ann_f1_score = f1_score(y_test, y_pred, average=\"weighted\")"
   ]
  },
  {
   "cell_type": "code",
   "execution_count": 186,
   "id": "09d54fea",
   "metadata": {},
   "outputs": [
    {
     "data": {
      "text/plain": [
       "0.8774990515439149"
      ]
     },
     "execution_count": 186,
     "metadata": {},
     "output_type": "execute_result"
    }
   ],
   "source": [
    "ann_f1_score"
   ]
  },
  {
   "cell_type": "markdown",
   "id": "673e88a0",
   "metadata": {},
   "source": [
    "### AdaboostClassifier"
   ]
  },
  {
   "cell_type": "code",
   "execution_count": 187,
   "id": "dc79e8ea",
   "metadata": {},
   "outputs": [],
   "source": [
    "ada_clf = ada(n_estimators=100, random_state=13)"
   ]
  },
  {
   "cell_type": "code",
   "execution_count": 188,
   "id": "82517090",
   "metadata": {},
   "outputs": [],
   "source": [
    "ada_clf = ada_clf.fit(x_train, y_train)"
   ]
  },
  {
   "cell_type": "code",
   "execution_count": 189,
   "id": "cdbb407a",
   "metadata": {},
   "outputs": [],
   "source": [
    "y_pred = ada_clf.predict(x_test)"
   ]
  },
  {
   "cell_type": "code",
   "execution_count": 190,
   "id": "dd70b1dd",
   "metadata": {},
   "outputs": [],
   "source": [
    "from sklearn import metrics\n",
    "y_pred = ada_clf.predict(x_test)\n",
    "accuracy = metrics.accuracy_score(y_test, y_pred)"
   ]
  },
  {
   "cell_type": "code",
   "execution_count": 191,
   "id": "ba80d463",
   "metadata": {},
   "outputs": [
    {
     "data": {
      "text/plain": [
       "0.8660624370594159"
      ]
     },
     "execution_count": 191,
     "metadata": {},
     "output_type": "execute_result"
    }
   ],
   "source": [
    "accuracy"
   ]
  },
  {
   "cell_type": "code",
   "execution_count": 192,
   "id": "ad3b0112",
   "metadata": {},
   "outputs": [],
   "source": [
    "from sklearn.metrics import ConfusionMatrixDisplay\n",
    "import matplotlib.pyplot as plt"
   ]
  },
  {
   "cell_type": "code",
   "execution_count": 193,
   "id": "a82efdd4",
   "metadata": {},
   "outputs": [
    {
     "data": {
      "image/png": "[encoded data removed]",
      "text/plain": [
       "<Figure size 432x288 with 2 Axes>"
      ]
     },
     "metadata": {
      "needs_background": "light"
     },
     "output_type": "display_data"
    }
   ],
   "source": [
    "disp = ConfusionMatrixDisplay.from_estimator(\n",
    "        ada_clf,\n",
    "        x_test,\n",
    "        y_test,\n",
    "        display_labels=[\"Normal\", \"Abnormal\", \"Pathological\"],\n",
    "        cmap=plt.cm.Blues,\n",
    "        normalize='true',\n",
    "    )"
   ]
  },
  {
   "cell_type": "code",
   "execution_count": 194,
   "id": "3276288b",
   "metadata": {},
   "outputs": [],
   "source": [
    "from sklearn.metrics import precision_score, recall_score, confusion_matrix, classification_report, accuracy_score, f1_score"
   ]
  },
  {
   "cell_type": "code",
   "execution_count": 195,
   "id": "8af72c3e",
   "metadata": {},
   "outputs": [],
   "source": [
    "ada_precision = precision_score(y_test, y_pred, average='weighted')"
   ]
  },
  {
   "cell_type": "code",
   "execution_count": 196,
   "id": "2bf79726",
   "metadata": {},
   "outputs": [
    {
     "data": {
      "text/plain": [
       "0.8732856171091109"
      ]
     },
     "execution_count": 196,
     "metadata": {},
     "output_type": "execute_result"
    }
   ],
   "source": [
    "ada_precision"
   ]
  },
  {
   "cell_type": "code",
   "execution_count": 197,
   "id": "d6687b7c",
   "metadata": {},
   "outputs": [],
   "source": [
    "ada_recall  = recall_score(y_test, y_pred,average = 'weighted')"
   ]
  },
  {
   "cell_type": "code",
   "execution_count": 198,
   "id": "d0dac945",
   "metadata": {},
   "outputs": [
    {
     "data": {
      "text/plain": [
       "0.8660624370594159"
      ]
     },
     "execution_count": 198,
     "metadata": {},
     "output_type": "execute_result"
    }
   ],
   "source": [
    "ada_recall"
   ]
  },
  {
   "cell_type": "code",
   "execution_count": 199,
   "id": "0405b9c8",
   "metadata": {},
   "outputs": [],
   "source": [
    "ada_f1_score = f1_score(y_test, y_pred, average=\"weighted\")"
   ]
  },
  {
   "cell_type": "code",
   "execution_count": 200,
   "id": "f128e849",
   "metadata": {},
   "outputs": [
    {
     "data": {
      "text/plain": [
       "0.8677422474998651"
      ]
     },
     "execution_count": 200,
     "metadata": {},
     "output_type": "execute_result"
    }
   ],
   "source": [
    "ada_f1_score"
   ]
  },
  {
   "cell_type": "code",
   "execution_count": 201,
   "id": "6276b292",
   "metadata": {},
   "outputs": [
    {
     "data": {
      "text/plain": [
       "(4965,)"
      ]
     },
     "execution_count": 201,
     "metadata": {},
     "output_type": "execute_result"
    }
   ],
   "source": [
    "y.shape"
   ]
  },
  {
   "cell_type": "code",
   "execution_count": 202,
   "id": "8384e8aa",
   "metadata": {},
   "outputs": [],
   "source": [
    "import pandas as pd"
   ]
  },
  {
   "cell_type": "code",
   "execution_count": 203,
   "id": "67a7dede",
   "metadata": {},
   "outputs": [],
   "source": [
    "y_frame = pd.DataFrame(y)"
   ]
  },
  {
   "cell_type": "code",
   "execution_count": 99,
   "id": "f9f32ba3",
   "metadata": {},
   "outputs": [
    {
     "data": {
      "text/plain": [
       "0\n",
       "1    1655\n",
       "2    1655\n",
       "3    1655\n",
       "dtype: int64"
      ]
     },
     "execution_count": 99,
     "metadata": {},
     "output_type": "execute_result"
    }
   ],
   "source": [
    "y_frame.groupby(0).size()"
   ]
  },
  {
   "cell_type": "code",
   "execution_count": 196,
   "id": "6d534c81",
   "metadata": {},
   "outputs": [
    {
     "name": "stdout",
     "output_type": "stream",
     "text": [
      "Collecting imbalanced-learn\n",
      "  Downloading imbalanced_learn-0.9.0-py3-none-any.whl (199 kB)\n",
      "Requirement already satisfied: joblib>=0.11 in c:\\users\\miz\\appdata\\local\\programs\\python\\python310\\lib\\site-packages (from imbalanced-learn) (1.1.0)\n",
      "Requirement already satisfied: numpy>=1.14.6 in c:\\users\\miz\\appdata\\local\\programs\\python\\python310\\lib\\site-packages (from imbalanced-learn) (1.22.3)\n",
      "Requirement already satisfied: threadpoolctl>=2.0.0 in c:\\users\\miz\\appdata\\local\\programs\\python\\python310\\lib\\site-packages (from imbalanced-learn) (3.1.0)\n",
      "Requirement already satisfied: scipy>=1.1.0 in c:\\users\\miz\\appdata\\local\\programs\\python\\python310\\lib\\site-packages (from imbalanced-learn) (1.8.0)\n",
      "Requirement already satisfied: scikit-learn>=1.0.1 in c:\\users\\miz\\appdata\\local\\programs\\python\\python310\\lib\\site-packages (from imbalanced-learn) (1.0.2)\n",
      "Installing collected packages: imbalanced-learn\n",
      "Successfully installed imbalanced-learn-0.9.0\n",
      "Note: you may need to restart the kernel to use updated packages.\n"
     ]
    },
    {
     "name": "stderr",
     "output_type": "stream",
     "text": [
      "WARNING: You are using pip version 21.2.4; however, version 22.0.4 is available.\n",
      "You should consider upgrading via the 'C:\\Users\\Miz\\AppData\\Local\\Programs\\Python\\Python310\\python.exe -m pip install --upgrade pip' command.\n"
     ]
    }
   ],
   "source": [
    "pip install imbalanced-learn"
   ]
  },
  {
   "cell_type": "code",
   "execution_count": 7,
   "id": "1f9a1ab1",
   "metadata": {},
   "outputs": [
    {
     "ename": "UnicodeDecodeError",
     "evalue": "'charmap' codec can't decode byte 0x90 in position 248: character maps to <undefined>",
     "output_type": "error",
     "traceback": [
      "\u001b[1;31m---------------------------------------------------------------------------\u001b[0m",
      "\u001b[1;31mUnicodeDecodeError\u001b[0m                        Traceback (most recent call last)",
      "Input \u001b[1;32mIn [7]\u001b[0m, in \u001b[0;36m<cell line: 1>\u001b[1;34m()\u001b[0m\n\u001b[0;32m      1\u001b[0m \u001b[38;5;28;01mwith\u001b[39;00m \u001b[38;5;28mopen\u001b[39m(\u001b[38;5;124mr\u001b[39m\u001b[38;5;124m\"\u001b[39m\u001b[38;5;124mtempDir/1042.dat\u001b[39m\u001b[38;5;124m\"\u001b[39m) \u001b[38;5;28;01mas\u001b[39;00m datFile:\n\u001b[1;32m----> 2\u001b[0m     \u001b[38;5;28mprint\u001b[39m([data\u001b[38;5;241m.\u001b[39msplit()[\u001b[38;5;241m0\u001b[39m] \u001b[38;5;28;01mfor\u001b[39;00m data \u001b[38;5;129;01min\u001b[39;00m datFile])\n",
      "Input \u001b[1;32mIn [7]\u001b[0m, in \u001b[0;36m<listcomp>\u001b[1;34m(.0)\u001b[0m\n\u001b[0;32m      1\u001b[0m \u001b[38;5;28;01mwith\u001b[39;00m \u001b[38;5;28mopen\u001b[39m(\u001b[38;5;124mr\u001b[39m\u001b[38;5;124m\"\u001b[39m\u001b[38;5;124mtempDir/1042.dat\u001b[39m\u001b[38;5;124m\"\u001b[39m) \u001b[38;5;28;01mas\u001b[39;00m datFile:\n\u001b[1;32m----> 2\u001b[0m     \u001b[38;5;28mprint\u001b[39m([data\u001b[38;5;241m.\u001b[39msplit()[\u001b[38;5;241m0\u001b[39m] \u001b[38;5;28;01mfor\u001b[39;00m data \u001b[38;5;129;01min\u001b[39;00m datFile])\n",
      "File \u001b[1;32m~\\AppData\\Local\\Programs\\Python\\Python310\\lib\\encodings\\cp1252.py:23\u001b[0m, in \u001b[0;36mIncrementalDecoder.decode\u001b[1;34m(self, input, final)\u001b[0m\n\u001b[0;32m     22\u001b[0m \u001b[38;5;28;01mdef\u001b[39;00m \u001b[38;5;21mdecode\u001b[39m(\u001b[38;5;28mself\u001b[39m, \u001b[38;5;28minput\u001b[39m, final\u001b[38;5;241m=\u001b[39m\u001b[38;5;28;01mFalse\u001b[39;00m):\n\u001b[1;32m---> 23\u001b[0m     \u001b[38;5;28;01mreturn\u001b[39;00m \u001b[43mcodecs\u001b[49m\u001b[38;5;241;43m.\u001b[39;49m\u001b[43mcharmap_decode\u001b[49m\u001b[43m(\u001b[49m\u001b[38;5;28;43minput\u001b[39;49m\u001b[43m,\u001b[49m\u001b[38;5;28;43mself\u001b[39;49m\u001b[38;5;241;43m.\u001b[39;49m\u001b[43merrors\u001b[49m\u001b[43m,\u001b[49m\u001b[43mdecoding_table\u001b[49m\u001b[43m)\u001b[49m[\u001b[38;5;241m0\u001b[39m]\n",
      "\u001b[1;31mUnicodeDecodeError\u001b[0m: 'charmap' codec can't decode byte 0x90 in position 248: character maps to <undefined>"
     ]
    }
   ],
   "source": [
    "with open(r\"tempDir/1042.dat\") as datFile:\n",
    "    print([data.split()[0] for data in datFile])"
   ]
  },
  {
   "cell_type": "code",
   "execution_count": null,
   "id": "1ad2624c",
   "metadata": {},
   "outputs": [],
   "source": []
  }
 ],
 "metadata": {
  "kernelspec": {
   "display_name": "Python 3 (ipykernel)",
   "language": "python",
   "name": "python3"
  },
  "language_info": {
   "codemirror_mode": {
    "name": "ipython",
    "version": 3
   },
   "file_extension": ".py",
   "mimetype": "text/x-python",
   "name": "python",
   "nbconvert_exporter": "python",
   "pygments_lexer": "ipython3",
   "version": "3.10.2"
  }
 },
 "nbformat": 4,
 "nbformat_minor": 5
}
