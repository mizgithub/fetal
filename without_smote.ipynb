{
 "cells": [
  {
   "cell_type": "code",
   "execution_count": 1,
   "id": "42e215e2",
   "metadata": {
    "scrolled": true
   },
   "outputs": [],
   "source": [
    "from sklearn.model_selection import train_test_split\n",
    "from sklearn.preprocessing import StandardScaler\n",
    "from sklearn.ensemble import RandomForestClassifier as rfc, AdaBoostClassifier as ada\n",
    "from sklearn.tree import DecisionTreeClassifier as dtc\n",
    "import pickle\n",
    "import pandas as pd\n",
    "#loading data"
   ]
  },
  {
   "cell_type": "code",
   "execution_count": 2,
   "id": "fa555ca9",
   "metadata": {},
   "outputs": [],
   "source": [
    "data_file = \"fetal_health_corrected_dataset.csv\"\n",
    "data = pd.read_csv(data_file)"
   ]
  },
  {
   "cell_type": "code",
   "execution_count": 3,
   "id": "52b6fec6",
   "metadata": {},
   "outputs": [],
   "source": [
    "x = data.iloc[:,0:13].values\n",
    "y = data.iloc[:,13].values"
   ]
  },
  {
   "cell_type": "code",
   "execution_count": 17,
   "id": "704e773a",
   "metadata": {},
   "outputs": [],
   "source": [
    "x_train, x_test, y_train, y_test = train_test_split(x,y,test_size = 0.2, random_state = 13)"
   ]
  },
  {
   "cell_type": "markdown",
   "id": "482a32f3",
   "metadata": {},
   "source": [
    "## Random forest"
   ]
  },
  {
   "cell_type": "code",
   "execution_count": 18,
   "id": "a8270e57",
   "metadata": {},
   "outputs": [],
   "source": [
    "d_rfc = rfc(n_estimators = 100)"
   ]
  },
  {
   "cell_type": "code",
   "execution_count": 19,
   "id": "109917b4",
   "metadata": {},
   "outputs": [],
   "source": [
    "d_rfc = d_rfc.fit(x_train, y_train)"
   ]
  },
  {
   "cell_type": "code",
   "execution_count": 20,
   "id": "05455051",
   "metadata": {},
   "outputs": [],
   "source": [
    "y_pred = d_rfc.predict(x_test)"
   ]
  },
  {
   "cell_type": "code",
   "execution_count": 21,
   "id": "e850d18d",
   "metadata": {},
   "outputs": [],
   "source": [
    "from sklearn import metrics\n",
    "y_pred = d_rfc.predict(x_test)\n",
    "accuracy = metrics.accuracy_score(y_test, y_pred)"
   ]
  },
  {
   "cell_type": "code",
   "execution_count": 22,
   "id": "3576b162",
   "metadata": {},
   "outputs": [
    {
     "data": {
      "text/plain": [
       "0.9131455399061033"
      ]
     },
     "execution_count": 22,
     "metadata": {},
     "output_type": "execute_result"
    }
   ],
   "source": [
    "accuracy"
   ]
  },
  {
   "cell_type": "code",
   "execution_count": 23,
   "id": "bac6ad40",
   "metadata": {},
   "outputs": [],
   "source": [
    "from sklearn.metrics import ConfusionMatrixDisplay\n",
    "import matplotlib.pyplot as plt"
   ]
  },
  {
   "cell_type": "code",
   "execution_count": 24,
   "id": "3121f2ae",
   "metadata": {},
   "outputs": [
    {
     "data": {
      "image/png": "[encoded data removed]",
      "text/plain": [
       "<Figure size 432x288 with 2 Axes>"
      ]
     },
     "metadata": {
      "needs_background": "light"
     },
     "output_type": "display_data"
    }
   ],
   "source": [
    "disp = ConfusionMatrixDisplay.from_estimator(\n",
    "        d_rfc,\n",
    "        x_test,\n",
    "        y_test,\n",
    "        display_labels=[\"Normal\", \"Abnormal\", \"Pathological\"],\n",
    "        cmap=plt.cm.Blues,\n",
    "        normalize='true',\n",
    "    )"
   ]
  },
  {
   "cell_type": "code",
   "execution_count": 25,
   "id": "61df66cd",
   "metadata": {},
   "outputs": [],
   "source": [
    "from sklearn.metrics import precision_score, recall_score, confusion_matrix, classification_report, accuracy_score, f1_score"
   ]
  },
  {
   "cell_type": "code",
   "execution_count": 26,
   "id": "3b052c7c",
   "metadata": {},
   "outputs": [],
   "source": [
    "rfc_precision = precision_score(y_test, y_pred, average='weighted')"
   ]
  },
  {
   "cell_type": "code",
   "execution_count": 27,
   "id": "d5a384f0",
   "metadata": {},
   "outputs": [
    {
     "data": {
      "text/plain": [
       "0.9115881615313691"
      ]
     },
     "execution_count": 27,
     "metadata": {},
     "output_type": "execute_result"
    }
   ],
   "source": [
    "rfc_precision"
   ]
  },
  {
   "cell_type": "code",
   "execution_count": 28,
   "id": "cf77528d",
   "metadata": {},
   "outputs": [],
   "source": [
    "rfc_recall  = recall_score(y_test, y_pred,average = 'weighted')"
   ]
  },
  {
   "cell_type": "code",
   "execution_count": 29,
   "id": "eb00357a",
   "metadata": {},
   "outputs": [
    {
     "data": {
      "text/plain": [
       "0.9131455399061033"
      ]
     },
     "execution_count": 29,
     "metadata": {},
     "output_type": "execute_result"
    }
   ],
   "source": [
    "rfc_recall"
   ]
  },
  {
   "cell_type": "code",
   "execution_count": 30,
   "id": "62eb8594",
   "metadata": {},
   "outputs": [],
   "source": [
    "rfc_f1_score = f1_score(y_test, y_pred, average=\"weighted\")"
   ]
  },
  {
   "cell_type": "code",
   "execution_count": 31,
   "id": "84aec96f",
   "metadata": {},
   "outputs": [
    {
     "data": {
      "text/plain": [
       "0.9119710292516359"
      ]
     },
     "execution_count": 31,
     "metadata": {},
     "output_type": "execute_result"
    }
   ],
   "source": [
    "rfc_f1_score"
   ]
  },
  {
   "cell_type": "markdown",
   "id": "7a8894ca",
   "metadata": {},
   "source": [
    "### ANN"
   ]
  },
  {
   "cell_type": "code",
   "execution_count": 32,
   "id": "cfd07303",
   "metadata": {},
   "outputs": [],
   "source": [
    "from sklearn.neural_network import MLPClassifier"
   ]
  },
  {
   "cell_type": "code",
   "execution_count": 33,
   "id": "40a164e1",
   "metadata": {},
   "outputs": [],
   "source": [
    "ann_clf = MLPClassifier(hidden_layer_sizes=(500,5), random_state=13, max_iter=1000, warm_start=True)"
   ]
  },
  {
   "cell_type": "code",
   "execution_count": 301,
   "id": "8a47f0f5",
   "metadata": {},
   "outputs": [],
   "source": [
    "ann_clf = ann_clf.fit(x_train, y_train)"
   ]
  },
  {
   "cell_type": "code",
   "execution_count": 302,
   "id": "5bb9aaff",
   "metadata": {},
   "outputs": [],
   "source": [
    "y_pred = ann_clf.predict(x_test)"
   ]
  },
  {
   "cell_type": "code",
   "execution_count": 303,
   "id": "32868e2d",
   "metadata": {},
   "outputs": [],
   "source": [
    "from sklearn import metrics\n",
    "y_pred = ann_clf.predict(x_test)\n",
    "accuracy = metrics.accuracy_score(y_test, y_pred)"
   ]
  },
  {
   "cell_type": "code",
   "execution_count": 304,
   "id": "9802fbe9",
   "metadata": {},
   "outputs": [
    {
     "data": {
      "text/plain": [
       "0.8591549295774648"
      ]
     },
     "execution_count": 304,
     "metadata": {},
     "output_type": "execute_result"
    }
   ],
   "source": [
    "accuracy"
   ]
  },
  {
   "cell_type": "code",
   "execution_count": 305,
   "id": "5d6f85d3",
   "metadata": {},
   "outputs": [],
   "source": [
    "from sklearn.metrics import ConfusionMatrixDisplay\n",
    "import matplotlib.pyplot as plt"
   ]
  },
  {
   "cell_type": "code",
   "execution_count": 306,
   "id": "961484b9",
   "metadata": {},
   "outputs": [
    {
     "data": {
      "image/png": "[encoded data removed]",
      "text/plain": [
       "<Figure size 432x288 with 2 Axes>"
      ]
     },
     "metadata": {
      "needs_background": "light"
     },
     "output_type": "display_data"
    }
   ],
   "source": [
    "disp = ConfusionMatrixDisplay.from_estimator(\n",
    "        ann_clf,\n",
    "        x_test,\n",
    "        y_test,\n",
    "        display_labels=[\"Normal\", \"Abnormal\", \"Pathological\"],\n",
    "        cmap=plt.cm.Blues,\n",
    "        normalize='true',\n",
    "    )"
   ]
  },
  {
   "cell_type": "code",
   "execution_count": 307,
   "id": "e4f8e66f",
   "metadata": {},
   "outputs": [],
   "source": [
    "from sklearn.metrics import precision_score, recall_score, confusion_matrix, classification_report, accuracy_score, f1_score"
   ]
  },
  {
   "cell_type": "code",
   "execution_count": 308,
   "id": "f38edf32",
   "metadata": {},
   "outputs": [],
   "source": [
    "ann_precision = precision_score(y_test, y_pred, average='weighted')"
   ]
  },
  {
   "cell_type": "code",
   "execution_count": 309,
   "id": "fdfe0df9",
   "metadata": {},
   "outputs": [
    {
     "data": {
      "text/plain": [
       "0.8288744044082527"
      ]
     },
     "execution_count": 309,
     "metadata": {},
     "output_type": "execute_result"
    }
   ],
   "source": [
    "ann_precision"
   ]
  },
  {
   "cell_type": "code",
   "execution_count": 310,
   "id": "0e95811b",
   "metadata": {},
   "outputs": [],
   "source": [
    "ann_recall  = recall_score(y_test, y_pred,average = 'weighted')"
   ]
  },
  {
   "cell_type": "code",
   "execution_count": 311,
   "id": "c226c0bd",
   "metadata": {},
   "outputs": [
    {
     "data": {
      "text/plain": [
       "0.8591549295774648"
      ]
     },
     "execution_count": 311,
     "metadata": {},
     "output_type": "execute_result"
    }
   ],
   "source": [
    "ann_recall"
   ]
  },
  {
   "cell_type": "code",
   "execution_count": 312,
   "id": "0339b0f4",
   "metadata": {},
   "outputs": [],
   "source": [
    "ann_f1_score = f1_score(y_test, y_pred, average=\"weighted\")"
   ]
  },
  {
   "cell_type": "code",
   "execution_count": 313,
   "id": "62fc7c77",
   "metadata": {},
   "outputs": [
    {
     "data": {
      "text/plain": [
       "0.8282651538124973"
      ]
     },
     "execution_count": 313,
     "metadata": {},
     "output_type": "execute_result"
    }
   ],
   "source": [
    "ann_f1_score"
   ]
  },
  {
   "cell_type": "markdown",
   "id": "3d79e6ea",
   "metadata": {},
   "source": [
    "### AdaboostClassifier"
   ]
  },
  {
   "cell_type": "code",
   "execution_count": 271,
   "id": "5b4c6933",
   "metadata": {},
   "outputs": [],
   "source": [
    "ada_clf = ada(n_estimators=100, random_state=13)"
   ]
  },
  {
   "cell_type": "code",
   "execution_count": 272,
   "id": "46e93a60",
   "metadata": {},
   "outputs": [],
   "source": [
    "ada_clf = ada_clf.fit(x_train, y_train)"
   ]
  },
  {
   "cell_type": "code",
   "execution_count": 273,
   "id": "44d8b824",
   "metadata": {},
   "outputs": [],
   "source": [
    "y_pred = ada_clf.predict(x_test)"
   ]
  },
  {
   "cell_type": "code",
   "execution_count": 274,
   "id": "e8003c7e",
   "metadata": {},
   "outputs": [],
   "source": [
    "from sklearn import metrics\n",
    "y_pred = ada_clf.predict(x_test)\n",
    "accuracy = metrics.accuracy_score(y_test, y_pred)"
   ]
  },
  {
   "cell_type": "code",
   "execution_count": 275,
   "id": "a3d16c48",
   "metadata": {},
   "outputs": [
    {
     "data": {
      "text/plain": [
       "0.8685446009389671"
      ]
     },
     "execution_count": 275,
     "metadata": {},
     "output_type": "execute_result"
    }
   ],
   "source": [
    "accuracy"
   ]
  },
  {
   "cell_type": "code",
   "execution_count": 276,
   "id": "684c2733",
   "metadata": {},
   "outputs": [],
   "source": [
    "from sklearn.metrics import ConfusionMatrixDisplay\n",
    "import matplotlib.pyplot as plt"
   ]
  },
  {
   "cell_type": "code",
   "execution_count": 277,
   "id": "a43505a0",
   "metadata": {},
   "outputs": [
    {
     "data": {
      "image/png": "[encoded data removed]",
      "text/plain": [
       "<Figure size 432x288 with 2 Axes>"
      ]
     },
     "metadata": {
      "needs_background": "light"
     },
     "output_type": "display_data"
    }
   ],
   "source": [
    "disp = ConfusionMatrixDisplay.from_estimator(\n",
    "        ada_clf,\n",
    "        x_test,\n",
    "        y_test,\n",
    "        display_labels=[\"Normal\", \"Abnormal\", \"Pathological\"],\n",
    "        cmap=plt.cm.Blues,\n",
    "        normalize='true',\n",
    "    )"
   ]
  },
  {
   "cell_type": "code",
   "execution_count": 183,
   "id": "bbc6b09c",
   "metadata": {},
   "outputs": [],
   "source": [
    "from sklearn.metrics import precision_score, recall_score, confusion_matrix, classification_report, accuracy_score, f1_score"
   ]
  },
  {
   "cell_type": "code",
   "execution_count": 184,
   "id": "7a2b1977",
   "metadata": {},
   "outputs": [],
   "source": [
    "ada_precision = precision_score(y_test, y_pred, average='weighted')"
   ]
  },
  {
   "cell_type": "code",
   "execution_count": 185,
   "id": "3025e7b3",
   "metadata": {},
   "outputs": [
    {
     "data": {
      "text/plain": [
       "0.8779046331863233"
      ]
     },
     "execution_count": 185,
     "metadata": {},
     "output_type": "execute_result"
    }
   ],
   "source": [
    "ada_precision"
   ]
  },
  {
   "cell_type": "code",
   "execution_count": 186,
   "id": "27078b44",
   "metadata": {},
   "outputs": [],
   "source": [
    "ada_recall  = recall_score(y_test, y_pred,average = 'weighted')"
   ]
  },
  {
   "cell_type": "code",
   "execution_count": 187,
   "id": "1afd44ee",
   "metadata": {},
   "outputs": [
    {
     "data": {
      "text/plain": [
       "0.8685446009389671"
      ]
     },
     "execution_count": 187,
     "metadata": {},
     "output_type": "execute_result"
    }
   ],
   "source": [
    "ada_recall"
   ]
  },
  {
   "cell_type": "code",
   "execution_count": 188,
   "id": "4ea38a48",
   "metadata": {},
   "outputs": [],
   "source": [
    "ada_f1_score = f1_score(y_test, y_pred, average=\"weighted\")"
   ]
  },
  {
   "cell_type": "code",
   "execution_count": 189,
   "id": "073729f2",
   "metadata": {},
   "outputs": [
    {
     "data": {
      "text/plain": [
       "0.872321649193406"
      ]
     },
     "execution_count": 189,
     "metadata": {},
     "output_type": "execute_result"
    }
   ],
   "source": [
    "ada_f1_score"
   ]
  },
  {
   "cell_type": "code",
   "execution_count": 191,
   "id": "c722fbb2",
   "metadata": {},
   "outputs": [
    {
     "data": {
      "text/plain": [
       "(2126,)"
      ]
     },
     "execution_count": 191,
     "metadata": {},
     "output_type": "execute_result"
    }
   ],
   "source": [
    "y.shape"
   ]
  },
  {
   "cell_type": "code",
   "execution_count": 192,
   "id": "8f95734b",
   "metadata": {},
   "outputs": [],
   "source": [
    "import pandas as pd"
   ]
  },
  {
   "cell_type": "code",
   "execution_count": 193,
   "id": "d43b1854",
   "metadata": {},
   "outputs": [],
   "source": [
    "y_frame = pd.DataFrame(y)"
   ]
  },
  {
   "cell_type": "code",
   "execution_count": 194,
   "id": "c161bc3d",
   "metadata": {},
   "outputs": [
    {
     "data": {
      "text/plain": [
       "0\n",
       "1    1655\n",
       "2     295\n",
       "3     176\n",
       "dtype: int64"
      ]
     },
     "execution_count": 194,
     "metadata": {},
     "output_type": "execute_result"
    }
   ],
   "source": [
    "y_frame.groupby(0).size()"
   ]
  },
  {
   "cell_type": "code",
   "execution_count": 196,
   "id": "3d3f9862",
   "metadata": {},
   "outputs": [
    {
     "name": "stdout",
     "output_type": "stream",
     "text": [
      "Collecting imbalanced-learn\n",
      "  Downloading imbalanced_learn-0.9.0-py3-none-any.whl (199 kB)\n",
      "Requirement already satisfied: joblib>=0.11 in c:\\users\\miz\\appdata\\local\\programs\\python\\python310\\lib\\site-packages (from imbalanced-learn) (1.1.0)\n",
      "Requirement already satisfied: numpy>=1.14.6 in c:\\users\\miz\\appdata\\local\\programs\\python\\python310\\lib\\site-packages (from imbalanced-learn) (1.22.3)\n",
      "Requirement already satisfied: threadpoolctl>=2.0.0 in c:\\users\\miz\\appdata\\local\\programs\\python\\python310\\lib\\site-packages (from imbalanced-learn) (3.1.0)\n",
      "Requirement already satisfied: scipy>=1.1.0 in c:\\users\\miz\\appdata\\local\\programs\\python\\python310\\lib\\site-packages (from imbalanced-learn) (1.8.0)\n",
      "Requirement already satisfied: scikit-learn>=1.0.1 in c:\\users\\miz\\appdata\\local\\programs\\python\\python310\\lib\\site-packages (from imbalanced-learn) (1.0.2)\n",
      "Installing collected packages: imbalanced-learn\n",
      "Successfully installed imbalanced-learn-0.9.0\n",
      "Note: you may need to restart the kernel to use updated packages.\n"
     ]
    },
    {
     "name": "stderr",
     "output_type": "stream",
     "text": [
      "WARNING: You are using pip version 21.2.4; however, version 22.0.4 is available.\n",
      "You should consider upgrading via the 'C:\\Users\\Miz\\AppData\\Local\\Programs\\Python\\Python310\\python.exe -m pip install --upgrade pip' command.\n"
     ]
    }
   ],
   "source": [
    "pip install imbalanced-learn"
   ]
  },
  {
   "cell_type": "markdown",
   "id": "8995e771",
   "metadata": {},
   "source": [
    "## smple histogram"
   ]
  },
  {
   "cell_type": "code",
   "execution_count": 48,
   "id": "5f4fd538",
   "metadata": {},
   "outputs": [],
   "source": [
    "file_path = r\"CTG_workshop_database/024.mat\""
   ]
  },
  {
   "cell_type": "code",
   "execution_count": 49,
   "id": "14922a82",
   "metadata": {},
   "outputs": [],
   "source": [
    "from scipy.io import loadmat"
   ]
  },
  {
   "cell_type": "code",
   "execution_count": 50,
   "id": "912e0665",
   "metadata": {},
   "outputs": [],
   "source": [
    "signal = loadmat(file_path)"
   ]
  },
  {
   "cell_type": "code",
   "execution_count": null,
   "id": "a9f0bf97",
   "metadata": {},
   "outputs": [],
   "source": []
  },
  {
   "cell_type": "code",
   "execution_count": 51,
   "id": "ebb9a4d6",
   "metadata": {},
   "outputs": [],
   "source": [
    "fhr = signal['fhr']"
   ]
  },
  {
   "cell_type": "code",
   "execution_count": 52,
   "id": "42ad7a40",
   "metadata": {},
   "outputs": [],
   "source": [
    "import numpy as np"
   ]
  },
  {
   "cell_type": "code",
   "execution_count": 53,
   "id": "e0552afb",
   "metadata": {},
   "outputs": [],
   "source": [
    "fhr_signal = []\n",
    "for i in fhr:\n",
    "    x = i[0]\n",
    "    if ~np.isnan(x):  # removinf nan\n",
    "        fhr_signal.append(x)"
   ]
  },
  {
   "cell_type": "code",
   "execution_count": 62,
   "id": "d30b85c8",
   "metadata": {},
   "outputs": [],
   "source": [
    "hist, bin_edges = np.histogram(fhr_signal)"
   ]
  },
  {
   "cell_type": "code",
   "execution_count": 63,
   "id": "c3e3121f",
   "metadata": {},
   "outputs": [],
   "source": [
    "import matplotlib.pyplot as plt"
   ]
  },
  {
   "cell_type": "code",
   "execution_count": 76,
   "id": "ca8540a4",
   "metadata": {},
   "outputs": [
    {
     "data": {
      "text/plain": [
       "[138.5,\n",
       " 138.5,\n",
       " 138.5,\n",
       " 132.75,\n",
       " 129.0,\n",
       " 129.0,\n",
       " 129.0,\n",
       " 129.5,\n",
       " 129.5,\n",
       " 129.5,\n",
       " 129.5,\n",
       " 129.5,\n",
       " 129.5,\n",
       " 129.25,\n",
       " 129.25,\n",
       " 129.25,\n",
       " 129.25,\n",
       " 138.25,\n",
       " 139.25,\n",
       " 139.25,\n",
       " 136.75,\n",
       " 136.75,\n",
       " 136.5,\n",
       " 136.5,\n",
       " 136.5,\n",
       " 136.5,\n",
       " 136.5,\n",
       " 136.5,\n",
       " 136.5,\n",
       " 136.5,\n",
       " 136.5,\n",
       " 136.5,\n",
       " 136.5,\n",
       " 136.5,\n",
       " 146.5,\n",
       " 145.75,\n",
       " 145.75,\n",
       " 145.25,\n",
       " 145.25,\n",
       " 144.75,\n",
       " 144.75,\n",
       " 144.75,\n",
       " 145.25,\n",
       " 145.25,\n",
       " 146.75,\n",
       " 147.25,\n",
       " 147.25,\n",
       " 148.5,\n",
       " 149.5,\n",
       " 149.5,\n",
       " 147.5,\n",
       " 147.5,\n",
       " 142.5,\n",
       " 142.5,\n",
       " 137.25,\n",
       " 137.25,\n",
       " 138.5,\n",
       " 138.75,\n",
       " 138.75,\n",
       " 136.75,\n",
       " 136.75,\n",
       " 136.0,\n",
       " 136.0,\n",
       " 136.75,\n",
       " 137.5,\n",
       " 137.5,\n",
       " 138.5,\n",
       " 138.5,\n",
       " 138.0,\n",
       " 141.75,\n",
       " 141.75,\n",
       " 144.0,\n",
       " 144.0,\n",
       " 143.5,\n",
       " 143.25,\n",
       " 143.25,\n",
       " 133.25,\n",
       " 133.25,\n",
       " 131.75,\n",
       " 131.75,\n",
       " 129.5,\n",
       " 129.5,\n",
       " 129.0,\n",
       " 129.0,\n",
       " 127.25,\n",
       " 127.25,\n",
       " 126.75,\n",
       " 126.75,\n",
       " 126.25,\n",
       " 126.0,\n",
       " 126.0,\n",
       " 126.0,\n",
       " 126.0,\n",
       " 126.5,\n",
       " 126.5,\n",
       " 127.25,\n",
       " 127.25,\n",
       " 127.5,\n",
       " 127.5,\n",
       " 126.75,\n",
       " 126.75,\n",
       " 126.75,\n",
       " 126.75,\n",
       " 128.75,\n",
       " 128.75,\n",
       " 128.5,\n",
       " 125.75,\n",
       " 125.75,\n",
       " 124.5,\n",
       " 124.5,\n",
       " 123.75,\n",
       " 123.75,\n",
       " 124.5,\n",
       " 124.5,\n",
       " 125.75,\n",
       " 125.75,\n",
       " 128.5,\n",
       " 128.5,\n",
       " 132.0,\n",
       " 136.25,\n",
       " 136.25,\n",
       " 137.75,\n",
       " 137.75,\n",
       " 138.5,\n",
       " 138.5,\n",
       " 139.75,\n",
       " 142.25,\n",
       " 142.25,\n",
       " 144.25,\n",
       " 145.25,\n",
       " 145.25,\n",
       " 146.5,\n",
       " 146.5,\n",
       " 148.25,\n",
       " 149.0,\n",
       " 149.0,\n",
       " 147.75,\n",
       " 147.75,\n",
       " 144.25,\n",
       " 136.75,\n",
       " 136.75,\n",
       " 133.75,\n",
       " 133.75,\n",
       " 134.25,\n",
       " 134.25,\n",
       " 134.75,\n",
       " 134.75,\n",
       " 135.75,\n",
       " 135.75,\n",
       " 138.5,\n",
       " 138.5,\n",
       " 139.5,\n",
       " 139.75,\n",
       " 139.75,\n",
       " 140.0,\n",
       " 140.0,\n",
       " 141.25,\n",
       " 143.0,\n",
       " 143.0,\n",
       " 143.75,\n",
       " 143.75,\n",
       " 145.0,\n",
       " 146.25,\n",
       " 146.25,\n",
       " 147.5,\n",
       " 148.5,\n",
       " 148.5,\n",
       " 149.75,\n",
       " 149.75,\n",
       " 150.25,\n",
       " 150.5,\n",
       " 150.5,\n",
       " 150.0,\n",
       " 150.25,\n",
       " 150.25,\n",
       " 150.25,\n",
       " 150.0,\n",
       " 150.0,\n",
       " 149.25,\n",
       " 149.25,\n",
       " 147.75,\n",
       " 147.0,\n",
       " 147.0,\n",
       " 147.0,\n",
       " 147.0,\n",
       " 146.75,\n",
       " 147.0,\n",
       " 147.0,\n",
       " 147.0,\n",
       " 147.0,\n",
       " 147.0,\n",
       " 146.5,\n",
       " 147.25,\n",
       " 147.25,\n",
       " 147.75,\n",
       " 147.75,\n",
       " 148.25,\n",
       " 148.75,\n",
       " 148.75,\n",
       " 149.75,\n",
       " 150.25,\n",
       " 150.25,\n",
       " 151.0,\n",
       " 151.5,\n",
       " 151.5,\n",
       " 152.25,\n",
       " 152.25,\n",
       " 152.75,\n",
       " 153.0,\n",
       " 153.0,\n",
       " 151.0,\n",
       " 150.5,\n",
       " 150.5,\n",
       " 149.25,\n",
       " 149.25,\n",
       " 148.25,\n",
       " 148.5,\n",
       " 148.5,\n",
       " 147.25,\n",
       " 147.25,\n",
       " 146.0,\n",
       " 144.5,\n",
       " 144.5,\n",
       " 143.25,\n",
       " 143.25,\n",
       " 144.0,\n",
       " 144.0,\n",
       " 143.25,\n",
       " 143.25,\n",
       " 143.25,\n",
       " 143.25,\n",
       " 143.25,\n",
       " 143.25,\n",
       " 143.25,\n",
       " 143.5,\n",
       " 143.5,\n",
       " 143.5,\n",
       " 143.25,\n",
       " 143.25,\n",
       " 143.25,\n",
       " 143.25,\n",
       " 154.75,\n",
       " 154.75,\n",
       " 163.25,\n",
       " 163.25,\n",
       " 158.5,\n",
       " 158.5,\n",
       " 154.5,\n",
       " 154.5,\n",
       " 154.5,\n",
       " 151.5,\n",
       " 150.0,\n",
       " 150.0,\n",
       " 147.75,\n",
       " 147.75,\n",
       " 136.0,\n",
       " 136.0,\n",
       " 130.25,\n",
       " 130.25,\n",
       " 129.75,\n",
       " 129.75,\n",
       " 130.0,\n",
       " 130.0,\n",
       " 130.25,\n",
       " 130.25,\n",
       " 132.25,\n",
       " 132.25,\n",
       " 134.25,\n",
       " 134.25,\n",
       " 135.5,\n",
       " 137.5,\n",
       " 137.5,\n",
       " 141.25,\n",
       " 141.25,\n",
       " 142.0,\n",
       " 143.25,\n",
       " 143.25,\n",
       " 140.0,\n",
       " 140.0,\n",
       " 142.75,\n",
       " 139.5,\n",
       " 139.5,\n",
       " 139.25,\n",
       " 139.25,\n",
       " 137.25,\n",
       " 137.25,\n",
       " 134.75,\n",
       " 134.75,\n",
       " 134.75,\n",
       " 135.25,\n",
       " 135.25,\n",
       " 136.25,\n",
       " 136.25,\n",
       " 137.75,\n",
       " 138.5,\n",
       " 138.5,\n",
       " 140.75,\n",
       " 140.75,\n",
       " 142.25,\n",
       " 142.25,\n",
       " 142.75,\n",
       " 142.0,\n",
       " 142.0,\n",
       " 141.5,\n",
       " 141.5,\n",
       " 141.5,\n",
       " 137.5,\n",
       " 137.5,\n",
       " 132.75,\n",
       " 130.0,\n",
       " 130.0,\n",
       " 126.25,\n",
       " 126.25,\n",
       " 125.75,\n",
       " 125.75,\n",
       " 125.75,\n",
       " 125.75,\n",
       " 125.0,\n",
       " 125.0,\n",
       " 125.0,\n",
       " 125.0,\n",
       " 124.25,\n",
       " 124.25,\n",
       " 124.0,\n",
       " 124.0,\n",
       " 124.0,\n",
       " 124.0,\n",
       " 123.0,\n",
       " 123.0,\n",
       " 121.75,\n",
       " 121.75,\n",
       " 121.5,\n",
       " 121.5,\n",
       " 123.0,\n",
       " 124.0,\n",
       " 124.0,\n",
       " 128.0,\n",
       " 128.0,\n",
       " 132.25,\n",
       " 132.25,\n",
       " 132.5,\n",
       " 132.5,\n",
       " 131.75,\n",
       " 131.75,\n",
       " 128.0,\n",
       " 128.0,\n",
       " 124.5,\n",
       " 124.5,\n",
       " 122.75,\n",
       " 122.75,\n",
       " 121.75,\n",
       " 121.75,\n",
       " 120.75,\n",
       " 120.75,\n",
       " 120.75,\n",
       " 120.75,\n",
       " 122.25,\n",
       " 121.75,\n",
       " 121.75,\n",
       " 121.5,\n",
       " 121.5,\n",
       " 125.25,\n",
       " 125.25,\n",
       " 127.0,\n",
       " 127.0,\n",
       " 129.75,\n",
       " 129.75,\n",
       " 130.25,\n",
       " 130.25,\n",
       " 129.0,\n",
       " 129.0,\n",
       " 126.25,\n",
       " 126.25,\n",
       " 123.5,\n",
       " 123.5,\n",
       " 121.0,\n",
       " 121.0,\n",
       " 119.5,\n",
       " 119.5,\n",
       " 119.5,\n",
       " 119.5,\n",
       " 120.25,\n",
       " 120.25,\n",
       " 121.25,\n",
       " 121.25,\n",
       " 121.75,\n",
       " 121.75,\n",
       " 120.0,\n",
       " 120.0,\n",
       " 121.0,\n",
       " 121.0,\n",
       " 121.75,\n",
       " 125.0,\n",
       " 125.0,\n",
       " 129.75,\n",
       " 129.75,\n",
       " 131.75,\n",
       " 131.75,\n",
       " 130.75,\n",
       " 130.75,\n",
       " 128.0,\n",
       " 128.0,\n",
       " 125.25,\n",
       " 125.25,\n",
       " 124.5,\n",
       " 124.5,\n",
       " 125.0,\n",
       " 126.5,\n",
       " 126.5,\n",
       " 126.5,\n",
       " 128.5,\n",
       " 128.5,\n",
       " 128.5,\n",
       " 134.0,\n",
       " 134.0,\n",
       " 135.25,\n",
       " 135.25,\n",
       " 134.75,\n",
       " 134.75,\n",
       " 135.0,\n",
       " 135.0,\n",
       " 135.25,\n",
       " 135.25,\n",
       " 133.5,\n",
       " 133.5,\n",
       " 128.5,\n",
       " 128.5,\n",
       " 128.0,\n",
       " 129.75,\n",
       " 129.75,\n",
       " 129.5,\n",
       " 129.5,\n",
       " 130.75,\n",
       " 130.75,\n",
       " 132.0,\n",
       " 131.5,\n",
       " 131.5,\n",
       " 129.75,\n",
       " 129.75,\n",
       " 129.5,\n",
       " 129.5,\n",
       " 129.75,\n",
       " 129.75,\n",
       " 130.25,\n",
       " 130.25,\n",
       " 134.0,\n",
       " 136.25,\n",
       " 136.25,\n",
       " 138.5,\n",
       " 138.5,\n",
       " 141.25,\n",
       " 143.25,\n",
       " 143.25,\n",
       " 144.5,\n",
       " 144.5,\n",
       " 145.75,\n",
       " 147.0,\n",
       " 147.0,\n",
       " 147.25,\n",
       " 148.25,\n",
       " 148.25,\n",
       " 148.0,\n",
       " 148.0,\n",
       " 148.75,\n",
       " 149.75,\n",
       " 149.75,\n",
       " 150.5,\n",
       " 150.5,\n",
       " 150.5,\n",
       " 151.0,\n",
       " 151.0,\n",
       " 151.0,\n",
       " 151.25,\n",
       " 151.25,\n",
       " 152.25,\n",
       " 152.75,\n",
       " 152.75,\n",
       " 153.25,\n",
       " 153.25,\n",
       " 151.25,\n",
       " 148.5,\n",
       " 148.5,\n",
       " 140.75,\n",
       " 140.75,\n",
       " 142.0,\n",
       " 140.75,\n",
       " 140.75,\n",
       " 139.75,\n",
       " 139.75,\n",
       " 139.0,\n",
       " 138.5,\n",
       " 138.5,\n",
       " 139.5,\n",
       " 139.5,\n",
       " 140.75,\n",
       " 140.75,\n",
       " 140.75,\n",
       " 142.0,\n",
       " 142.0,\n",
       " 143.25,\n",
       " 143.25,\n",
       " 145.75,\n",
       " 145.75,\n",
       " 145.75,\n",
       " 146.75,\n",
       " 146.5,\n",
       " 146.5,\n",
       " 141.25,\n",
       " 141.25,\n",
       " 136.75,\n",
       " 136.75,\n",
       " 136.75,\n",
       " 136.75,\n",
       " 135.5,\n",
       " 133.25,\n",
       " 133.25,\n",
       " 134.0,\n",
       " 134.0,\n",
       " 135.0,\n",
       " 135.0,\n",
       " 136.5,\n",
       " 138.75,\n",
       " 138.75,\n",
       " 140.75,\n",
       " 140.75,\n",
       " 143.25,\n",
       " 144.5,\n",
       " 144.5,\n",
       " 145.25,\n",
       " 146.25,\n",
       " 146.25,\n",
       " 146.25,\n",
       " 146.25,\n",
       " 146.25,\n",
       " 147.25,\n",
       " 148.0,\n",
       " 148.0,\n",
       " 148.0,\n",
       " 147.75,\n",
       " 147.75,\n",
       " 148.0,\n",
       " 148.0,\n",
       " 147.5,\n",
       " 147.0,\n",
       " 147.0,\n",
       " 146.75,\n",
       " 146.75,\n",
       " 146.5,\n",
       " 145.5,\n",
       " 145.5,\n",
       " 146.5,\n",
       " 146.75,\n",
       " 146.75,\n",
       " 147.0,\n",
       " 147.0,\n",
       " 147.75,\n",
       " 148.25,\n",
       " 148.25,\n",
       " 147.5,\n",
       " 147.5,\n",
       " 147.75,\n",
       " 149.0,\n",
       " 149.0,\n",
       " 150.0,\n",
       " 149.75,\n",
       " 149.75,\n",
       " 148.5,\n",
       " 148.5,\n",
       " 145.25,\n",
       " 142.5,\n",
       " 142.5,\n",
       " 140.0,\n",
       " 140.0,\n",
       " 139.5,\n",
       " 139.5,\n",
       " 139.5,\n",
       " 139.75,\n",
       " 139.75,\n",
       " 141.25,\n",
       " 141.25,\n",
       " 142.5,\n",
       " 143.25,\n",
       " 143.25,\n",
       " 144.5,\n",
       " 144.5,\n",
       " 144.75,\n",
       " 145.25,\n",
       " 145.25,\n",
       " 147.0,\n",
       " 147.5,\n",
       " 147.5,\n",
       " 146.75,\n",
       " 146.75,\n",
       " 144.5,\n",
       " 144.5,\n",
       " 142.0,\n",
       " 140.25,\n",
       " 140.25,\n",
       " 139.5,\n",
       " 139.5,\n",
       " 139.5,\n",
       " 139.5,\n",
       " 138.5,\n",
       " 137.75,\n",
       " 137.75,\n",
       " 137.5,\n",
       " 137.5,\n",
       " 137.25,\n",
       " 137.25,\n",
       " 137.25,\n",
       " 135.0,\n",
       " 135.0,\n",
       " 133.5,\n",
       " 133.5,\n",
       " 133.0,\n",
       " 133.0,\n",
       " 135.0,\n",
       " 135.25,\n",
       " 135.25,\n",
       " 136.25,\n",
       " 136.25,\n",
       " 136.25,\n",
       " 136.25,\n",
       " 132.5,\n",
       " 132.5,\n",
       " 130.25,\n",
       " 130.25,\n",
       " 133.5,\n",
       " 136.25,\n",
       " 136.25,\n",
       " 139.0,\n",
       " 139.0,\n",
       " 141.25,\n",
       " 142.5,\n",
       " 142.5,\n",
       " 142.0,\n",
       " 142.0,\n",
       " 141.0,\n",
       " 137.5,\n",
       " 137.5,\n",
       " 136.75,\n",
       " 136.75,\n",
       " 137.0,\n",
       " 137.0,\n",
       " 137.5,\n",
       " 139.0,\n",
       " 139.0,\n",
       " 139.75,\n",
       " 139.75,\n",
       " 141.25,\n",
       " 142.0,\n",
       " 142.0,\n",
       " 141.75,\n",
       " 141.75,\n",
       " 142.0,\n",
       " 142.75,\n",
       " 142.75,\n",
       " 142.75,\n",
       " 142.75,\n",
       " 142.5,\n",
       " 142.75,\n",
       " 142.75,\n",
       " 143.5,\n",
       " 143.5,\n",
       " 144.25,\n",
       " 144.75,\n",
       " 144.75,\n",
       " 145.5,\n",
       " 145.5,\n",
       " 146.0,\n",
       " 146.0,\n",
       " 146.0,\n",
       " 146.25,\n",
       " 146.25,\n",
       " 146.25,\n",
       " 146.5,\n",
       " 146.5,\n",
       " 146.5,\n",
       " 146.5,\n",
       " 147.0,\n",
       " 147.75,\n",
       " 147.75,\n",
       " 149.0,\n",
       " 149.75,\n",
       " 149.75,\n",
       " 149.75,\n",
       " 149.75,\n",
       " 150.25,\n",
       " 150.75,\n",
       " 150.75,\n",
       " 151.0,\n",
       " 151.25,\n",
       " 151.25,\n",
       " 151.5,\n",
       " 152.0,\n",
       " 152.0,\n",
       " 152.75,\n",
       " 153.75,\n",
       " 153.75,\n",
       " 154.5,\n",
       " 154.5,\n",
       " 155.0,\n",
       " 155.25,\n",
       " 155.25,\n",
       " 153.0,\n",
       " 150.75,\n",
       " 150.75,\n",
       " 142.0,\n",
       " 142.0,\n",
       " 141.25,\n",
       " 141.25,\n",
       " 141.0,\n",
       " 142.0,\n",
       " 142.0,\n",
       " 143.5,\n",
       " 143.5,\n",
       " 145.5,\n",
       " 147.0,\n",
       " 147.0,\n",
       " 147.75,\n",
       " 148.5,\n",
       " 148.5,\n",
       " 149.5,\n",
       " 149.5,\n",
       " 149.75,\n",
       " 150.0,\n",
       " 150.0,\n",
       " 150.25,\n",
       " 150.75,\n",
       " 150.75,\n",
       " 150.5,\n",
       " 149.75,\n",
       " 149.75,\n",
       " 148.0,\n",
       " 148.0,\n",
       " 147.0,\n",
       " 147.5,\n",
       " 147.5,\n",
       " 147.25,\n",
       " 147.25,\n",
       " 147.0,\n",
       " 148.0,\n",
       " 148.0,\n",
       " 148.25,\n",
       " 148.25,\n",
       " 148.5,\n",
       " 149.25,\n",
       " 149.25,\n",
       " 150.0,\n",
       " 150.0,\n",
       " 150.0,\n",
       " 149.75,\n",
       " 149.75,\n",
       " 149.75,\n",
       " 150.75,\n",
       " 150.75,\n",
       " 151.25,\n",
       " 151.5,\n",
       " 151.5,\n",
       " 152.0,\n",
       " 152.5,\n",
       " 152.5,\n",
       " 152.5,\n",
       " 152.5,\n",
       " 153.0,\n",
       " 154.0,\n",
       " 154.0,\n",
       " 155.0,\n",
       " 155.5,\n",
       " 155.5,\n",
       " 155.75,\n",
       " 156.25,\n",
       " 156.25,\n",
       " 156.5,\n",
       " 156.5,\n",
       " 156.5,\n",
       " 155.75,\n",
       " 156.5,\n",
       " 156.5,\n",
       " 156.75,\n",
       " 156.75,\n",
       " 156.75,\n",
       " 157.0,\n",
       " 156.75,\n",
       " 156.75,\n",
       " 157.0,\n",
       " 157.5,\n",
       " 157.5,\n",
       " 157.25,\n",
       " 157.25,\n",
       " 157.75,\n",
       " 158.5,\n",
       " 158.5,\n",
       " 159.0,\n",
       " 159.25,\n",
       " 159.25,\n",
       " 159.25,\n",
       " 159.5,\n",
       " 159.5,\n",
       " 159.5,\n",
       " 159.25,\n",
       " 159.25,\n",
       " 158.5,\n",
       " 155.25,\n",
       " 155.25,\n",
       " 152.25,\n",
       " 152.25,\n",
       " 152.25,\n",
       " 153.5,\n",
       " 154.75,\n",
       " 154.75,\n",
       " 155.0,\n",
       " 155.0,\n",
       " 154.5,\n",
       " 154.25,\n",
       " 154.25,\n",
       " 153.25,\n",
       " 152.5,\n",
       " 152.5,\n",
       " 152.0,\n",
       " 152.0,\n",
       " 150.25,\n",
       " 148.25,\n",
       " 148.25,\n",
       " 147.0,\n",
       " 147.0,\n",
       " 147.0,\n",
       " 147.5,\n",
       " 147.5,\n",
       " 148.25,\n",
       " 148.75,\n",
       " 148.75,\n",
       " 148.75,\n",
       " 148.75,\n",
       " 148.75,\n",
       " 148.5,\n",
       " 148.5,\n",
       " 149.0,\n",
       " 150.0,\n",
       " 150.0,\n",
       " 150.0,\n",
       " 150.5,\n",
       " 150.5,\n",
       " 150.5,\n",
       " 150.5,\n",
       " 150.75,\n",
       " 151.0,\n",
       " 151.0,\n",
       " 150.0,\n",
       " 150.0,\n",
       " 147.75,\n",
       " 147.75,\n",
       " 145.75,\n",
       " 147.25,\n",
       " 147.25,\n",
       " 147.75,\n",
       " 147.75,\n",
       " 147.5,\n",
       " 148.25,\n",
       " 148.25,\n",
       " 149.0,\n",
       " 149.5,\n",
       " 149.5,\n",
       " 148.25,\n",
       " 148.25,\n",
       " 142.25,\n",
       " 142.25,\n",
       " 138.75,\n",
       " 138.75,\n",
       " 138.5,\n",
       " 138.0,\n",
       " 138.0,\n",
       " 135.75,\n",
       " 135.75,\n",
       " 137.0,\n",
       " 137.0,\n",
       " 140.5,\n",
       " 142.0,\n",
       " 142.0,\n",
       " 136.0,\n",
       " 136.0,\n",
       " 138.75,\n",
       " 138.75,\n",
       " 134.0,\n",
       " 135.0,\n",
       " 135.0,\n",
       " 134.5,\n",
       " 134.5,\n",
       " 136.0,\n",
       " 136.0,\n",
       " 137.5,\n",
       " 136.5,\n",
       " 136.5,\n",
       " 135.75,\n",
       " 135.75,\n",
       " 131.5,\n",
       " 131.5,\n",
       " 124.75,\n",
       " 124.75,\n",
       " 124.5,\n",
       " 124.5,\n",
       " 122.75,\n",
       " 122.75,\n",
       " 124.0,\n",
       " 124.0,\n",
       " 124.5,\n",
       " 125.25,\n",
       " 125.25,\n",
       " 125.75,\n",
       " 125.75,\n",
       " 125.75,\n",
       " 119.75,\n",
       " 119.75,\n",
       " 116.5,\n",
       " 116.5,\n",
       " 117.75,\n",
       " 117.75,\n",
       " 119.25,\n",
       " 119.25,\n",
       " 119.5,\n",
       " 119.5,\n",
       " 118.5,\n",
       " 118.5,\n",
       " 118.0,\n",
       " 118.0,\n",
       " 121.0,\n",
       " 121.0,\n",
       " 127.25,\n",
       " 127.25,\n",
       " 136.25,\n",
       " 136.25,\n",
       " 136.25,\n",
       " 136.25,\n",
       " 135.5,\n",
       " 133.75,\n",
       " 133.75,\n",
       " 130.75,\n",
       " 130.75,\n",
       " 130.75,\n",
       " 124.5,\n",
       " 124.5,\n",
       " 124.5,\n",
       " 100.75,\n",
       " 100.75,\n",
       " 97.5,\n",
       " 97.5,\n",
       " 96.75,\n",
       " 96.75,\n",
       " 98.25,\n",
       " 98.25,\n",
       " 98.25,\n",
       " 100.0,\n",
       " 100.0,\n",
       " 99.25,\n",
       " 99.25,\n",
       " 99.25,\n",
       " 99.25,\n",
       " 99.25,\n",
       " 100.0,\n",
       " 100.0,\n",
       " 100.0,\n",
       " 100.0,\n",
       " 100.0,\n",
       " 100.0,\n",
       " 99.75,\n",
       " 99.75,\n",
       " 100.0,\n",
       " 100.0,\n",
       " 99.75,\n",
       " 99.75,\n",
       " 125.75,\n",
       " 125.75,\n",
       " 127.25,\n",
       " 127.25,\n",
       " 125.75,\n",
       " 125.75,\n",
       " 126.0,\n",
       " 126.0,\n",
       " 126.0,\n",
       " 126.0,\n",
       " 126.0,\n",
       " 125.75,\n",
       " 125.75,\n",
       " 123.0,\n",
       " 123.0,\n",
       " 123.0,\n",
       " 119.5,\n",
       " 119.5,\n",
       " 115.75,\n",
       " 115.75,\n",
       " 114.0,\n",
       " 114.0,\n",
       " 111.0,\n",
       " 111.0,\n",
       " 110.5,\n",
       " 110.5,\n",
       " 110.5,\n",
       " 107.25,\n",
       " 107.25,\n",
       " 100.0,\n",
       " ...]"
      ]
     },
     "execution_count": 76,
     "metadata": {},
     "output_type": "execute_result"
    }
   ],
   "source": [
    "fhr_signal"
   ]
  },
  {
   "cell_type": "code",
   "execution_count": 64,
   "id": "1d3d76ff",
   "metadata": {},
   "outputs": [
    {
     "data": {
      "text/plain": [
       "array([  183,  1014,   971,  1600,  4618, 17863, 18572,  3103,   764,\n",
       "         395], dtype=int64)"
      ]
     },
     "execution_count": 64,
     "metadata": {},
     "output_type": "execute_result"
    }
   ],
   "source": [
    "hist"
   ]
  },
  {
   "cell_type": "code",
   "execution_count": 74,
   "id": "b633c360",
   "metadata": {},
   "outputs": [
    {
     "data": {
      "image/png": "[encoded data removed]",
      "text/plain": [
       "<Figure size 432x288 with 1 Axes>"
      ]
     },
     "metadata": {
      "needs_background": "light"
     },
     "output_type": "display_data"
    }
   ],
   "source": [
    "plt.hist(fhr_signal, bin_edges,color = \"skyblue\", lw=0)\n",
    "plt.show()"
   ]
  },
  {
   "cell_type": "code",
   "execution_count": 75,
   "id": "76d2a2af",
   "metadata": {},
   "outputs": [
    {
     "data": {
      "text/plain": [
       "array([ 51.25,  64.75,  78.25,  91.75, 105.25, 118.75, 132.25, 145.75,\n",
       "       159.25, 172.75, 186.25])"
      ]
     },
     "execution_count": 75,
     "metadata": {},
     "output_type": "execute_result"
    }
   ],
   "source": [
    "bin_edges"
   ]
  },
  {
   "cell_type": "code",
   "execution_count": null,
   "id": "4eae33fb",
   "metadata": {},
   "outputs": [],
   "source": [
    "hist_min = np.min(bin_edges)\n",
    "print()\n",
    "    #histogram max\n",
    "hist_max = np.max(bin_edges)\n",
    "    #histogram width\n",
    "hist_width = hist_max - hist_min\n",
    "    # histogram peaks\n",
    "hist_number_of_peaks = 0"
   ]
  },
  {
   "cell_type": "code",
   "execution_count": 77,
   "id": "a526cac1",
   "metadata": {},
   "outputs": [],
   "source": [
    "baseline = round(np.average(fhr_signal),0)"
   ]
  },
  {
   "cell_type": "code",
   "execution_count": 78,
   "id": "32df4c0c",
   "metadata": {},
   "outputs": [
    {
     "data": {
      "text/plain": [
       "129.0"
      ]
     },
     "execution_count": 78,
     "metadata": {},
     "output_type": "execute_result"
    }
   ],
   "source": [
    "baseline"
   ]
  },
  {
   "cell_type": "code",
   "execution_count": null,
   "id": "28aa8784",
   "metadata": {},
   "outputs": [],
   "source": []
  }
 ],
 "metadata": {
  "kernelspec": {
   "display_name": "Python 3 (ipykernel)",
   "language": "python",
   "name": "python3"
  },
  "language_info": {
   "codemirror_mode": {
    "name": "ipython",
    "version": 3
   },
   "file_extension": ".py",
   "mimetype": "text/x-python",
   "name": "python",
   "nbconvert_exporter": "python",
   "pygments_lexer": "ipython3",
   "version": "3.10.2"
  }
 },
 "nbformat": 4,
 "nbformat_minor": 5
}
